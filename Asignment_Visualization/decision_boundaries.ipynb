{
 "cells": [
  {
   "cell_type": "markdown",
   "metadata": {
    "_cell_guid": "647efa77-374e-5e65-b88a-6b25317541b2",
    "_uuid": "5481b9b282544ff4a2a60c43b4a8b154f18316b8"
   },
   "source": [
    "from [Anisotropic](https://www.kaggle.com/arthurtok/decision-boundaries-visualised-via-python-plotly/notebook)\n",
    "\n",
    "# Introduction\n",
    "\n",
    "A whole host of kernels have been written on the quintessential Iris dataset covering all sorts of topics under the sun. They include implementing different Machine learning models to Exploratory data analysis as well as dimensionality transformation techniques. \n",
    "\n",
    "This notebook however will take a somewhat different approach. I will focus solely on one aspect of the dataset, visualising the decision boundary. A decision boundary in a nutshell, is a surface that separates data points belonging to different class lables. Although apparently simple at first glance, there is quite a lot of useful information to be gleaned from visualising a decision boundary, information that will give you an intuitive grasp of learning models. \n",
    "\n",
    "Let's go."
   ]
  },
  {
   "cell_type": "code",
   "execution_count": null,
   "metadata": {
    "_cell_guid": "7410bf80-dfb7-fe13-ac1f-a5795ec246cd",
    "_uuid": "c445551eaba0c31e864405ea0f6e1e3dc0330527",
    "collapsed": true
   },
   "outputs": [],
   "source": [
    "import pandas as pd\n",
    "import numpy as np\n",
    "import matplotlib.pyplot as plt\n",
    "from matplotlib.colors import ListedColormap\n",
    "import seaborn as sns\n",
    "\n",
    "%matplotlib inline\n",
    "\n",
    "# Import statements required for Plotly \n",
    "import plotly.offline as py\n",
    "py.init_notebook_mode(connected=True)\n",
    "import plotly.graph_objs as go\n",
    "from plotly import tools\n",
    "\n",
    "from sklearn.preprocessing import StandardScaler\n",
    "from sklearn.svm import SVC\n",
    "from sklearn.cross_validation import train_test_split\n",
    "from sklearn.preprocessing import StandardScaler\n",
    "from sklearn.datasets import make_moons, make_circles, make_classification, make_blobs, make_checkerboard\n",
    "from sklearn.neighbors import KNeighborsClassifier\n",
    "from sklearn.cluster import KMeans\n",
    "from sklearn.svm import SVC\n",
    "from sklearn.tree import DecisionTreeClassifier\n",
    "from sklearn.ensemble import RandomForestClassifier, AdaBoostClassifier, ExtraTreesClassifier, GradientBoostingClassifier, BaggingClassifier\n",
    "from sklearn.naive_bayes import GaussianNB\n",
    "from sklearn.linear_model import LogisticRegression"
   ]
  },
  {
   "cell_type": "markdown",
   "metadata": {
    "_cell_guid": "a8d99ada-179e-384f-4749-95002ccd5611",
    "_uuid": "a1d8b8ed6c2885a5c113ab6e49864ee3c48c82eb"
   },
   "source": [
    "# 1. Decision Boundary of Two Classes\n",
    "\n",
    "1. Before we start on the Iris dataset, as a starter I would like to generate some custom data points so we can have a feel for how the decision boundaries would look like on a two-class dataset (since the Iris set is a three-class set). To do this, we can call Sklearn's very convenient internal datasets by invoking -   **sklearn.datasets** to create datasets in the shapes of circles (make_circles()), crescents (make_moon( ) ) and blobs (make_blobs( ) ) as follows:"
   ]
  },
  {
   "cell_type": "code",
   "execution_count": null,
   "metadata": {
    "_cell_guid": "e3ef044d-0fb9-291b-bdc3-ace8ab5d92d9",
    "_uuid": "8b377786ebf9c87f69327f407ef0de46fe113beb",
    "collapsed": true
   },
   "outputs": [],
   "source": [
    "X, y = make_classification(n_features=2, n_redundant=0, n_informative=2,\n",
    "                           random_state=1, n_clusters_per_class=1)\n",
    "\n",
    "datasets = [make_moons(noise=0.3, random_state=0)\n",
    "            ,make_circles(noise=0.2, factor=0.5, random_state=1)\n",
    "            ,make_blobs()\n",
    "           ]"
   ]
  },
  {
   "cell_type": "markdown",
   "metadata": {
    "_cell_guid": "342b927f-ff7e-26f9-1b2f-a255d6b298a2",
    "_uuid": "5e107516885b25d166ae9c7788c4ce8e44b71913"
   },
   "source": [
    "### Tree-based Decision Boundaries\n",
    "\n",
    "Let us first take a look at tree-based decision boundaries, specifically for these three models : the basic Decision tree, the Random Forest and the Extra Trees classifier. "
   ]
  },
  {
   "cell_type": "code",
   "execution_count": null,
   "metadata": {
    "_cell_guid": "97b3e992-81ad-e9e8-6f6c-04cdde8ab2bd",
    "_uuid": "afe22c218044c762f8f17a17b0c1b70ed4d2fb4f",
    "collapsed": true
   },
   "outputs": [],
   "source": [
    "names = [\"Decision Tree\",\"Random Forest\", \"ExtraTrees\"]\n",
    "# Creating a Python List with our three Tree classifiers\n",
    "treeclassifiers = [\n",
    "    DecisionTreeClassifier(max_depth=5),\n",
    "    RandomForestClassifier(max_depth=5, n_estimators=10, max_features=1),\n",
    "    ExtraTreesClassifier()]"
   ]
  },
  {
   "cell_type": "markdown",
   "metadata": {
    "_cell_guid": "750cf7a7-58f6-d355-5840-4e212e0ffdc4",
    "_uuid": "ad9ae057654c11f0a1c9bcadd74d078a7de20ec0"
   },
   "source": [
    "**Plotting the Decision Surface**\n",
    "\n",
    "The best site to obtain Python code for plotting decision surfaces can be found on the Sklearn website. There are multiple excellent examples on the site and here are some links that you may find useful:\n",
    "\n",
    " 1. [Classifier Comparison][1] \n",
    "\n",
    " 2. [Plot the Decision Boundaries of a Voting Classifier][2]\n",
    "\n",
    "  [1]: http://scikit-learn.org/0.15/auto_examples/plot_classifier_comparison.html\n",
    "  [2]: http://scikit-learn.org/stable/auto_examples/ensemble/plot_voting_decision_regions.html\n",
    "\n",
    "When plotting a decision surface, the general layout of the Python code is as follows:\n",
    "\n",
    " - Define an area with which to plot our decision surface and boundaries. We will use a very handy Numpy method **meshgrid** for this task\n",
    " - Extract either the class probabilities by invoking the attribute \"predict_proba\" or the distances between boundaries via the attribute \"decision_function\""
   ]
  },
  {
   "cell_type": "code",
   "execution_count": null,
   "metadata": {
    "_cell_guid": "ca79ffdf-71a6-47ab-0da9-d5e72a6d4b7f",
    "_uuid": "a59ad9ca8836524815d4b39591ba82a32987ecc8",
    "collapsed": true
   },
   "outputs": [],
   "source": [
    "figure = plt.figure(figsize=(12, 10))\n",
    "h = 0.02\n",
    "i = 1\n",
    "# iterate over datasets\n",
    "for ds in datasets:\n",
    "    # preprocess dataset, split into training and test part\n",
    "    X, y = ds\n",
    "    X = StandardScaler().fit_transform(X)\n",
    "    X_train, X_test, y_train, y_test = train_test_split(X, y, test_size=.4)\n",
    "\n",
    "    x_min, x_max = X[:, 0].min() - .5, X[:, 0].max() + .5\n",
    "    y_min, y_max = X[:, 1].min() - .5, X[:, 1].max() + .5\n",
    "    xx, yy = np.meshgrid(np.arange(x_min, x_max, h),\n",
    "                         np.arange(y_min, y_max, h))\n",
    "\n",
    "    # just plot the dataset first\n",
    "    cm = plt.cm.jet\n",
    "    cm_bright = ListedColormap(['#FF0000', '#0000FF'])\n",
    "    ax = plt.subplot(len(datasets), len(treeclassifiers) + 1, i)\n",
    "    # Plot the training points\n",
    "    ax.scatter(X_train[:, 0], X_train[:, 1], c=y_train, cmap=cm_bright, alpha=0.7)\n",
    "    # and testing points\n",
    "    #ax.scatter(X_test[:, 0], X_test[:, 1], c=y_test, cmap=cm_bright, alpha=0.6)\n",
    "    ax.set_xlim(xx.min(), xx.max())\n",
    "    ax.set_ylim(yy.min(), yy.max())\n",
    "    ax.set_xticks(())\n",
    "    ax.set_yticks(())\n",
    "    i += 1\n",
    "\n",
    "    # iterate over classifiers\n",
    "    for name, clf in zip(names, treeclassifiers):\n",
    "        ax = plt.subplot(len(datasets), len(treeclassifiers) + 1, i)\n",
    "        clf.fit(X_train, y_train)\n",
    "        score = clf.score(X_test, y_test)\n",
    "\n",
    "        # Plot the decision boundary. For that, we will assign a color to each\n",
    "        # point in the mesh [x_min, m_max]x[y_min, y_max].\n",
    "        if hasattr(clf, \"decision_function\"):\n",
    "            Z = clf.decision_function(np.c_[xx.ravel(), yy.ravel()])\n",
    "        else:\n",
    "            Z = clf.predict_proba(np.c_[xx.ravel(), yy.ravel()])[:, 1]\n",
    "\n",
    "        # Put the result into a color plot\n",
    "        Z = Z.reshape(xx.shape)\n",
    "        ax.contourf(xx, yy, Z, cmap=plt.cm.jet, alpha=.8)\n",
    "\n",
    "        # Plot also the training points\n",
    "        ax.scatter(X_train[:, 0], X_train[:, 1], c=y_train, cmap=cm_bright, alpha=0.6, linewidths=0.6, edgecolors=\"white\")\n",
    "        # and testing points\n",
    "        #ax.scatter(X_test[:, 0], X_test[:, 1], c=y_test, cmap=cm_bright,\n",
    "                   #alpha=0.6)\n",
    "\n",
    "        ax.set_xlim(xx.min(), xx.max())\n",
    "        ax.set_ylim(yy.min(), yy.max())\n",
    "        ax.set_xticks(())\n",
    "        ax.set_yticks(())\n",
    "        ax.set_title(name)\n",
    "        ax.text(xx.max() - .3, yy.min() + .3, ('%.2f' % score).lstrip('0'),\n",
    "                size=15, horizontalalignment='right')\n",
    "        i += 1\n",
    "\n",
    "figure.subplots_adjust(left=.02, right=.98)\n",
    "plt.show()"
   ]
  },
  {
   "cell_type": "markdown",
   "metadata": {
    "_cell_guid": "3c1a647b-fa40-dc15-832e-2f0325eebce0",
    "_uuid": "d5a973d2dddc39abc496219086a3208048bed13b"
   },
   "source": [
    "**Takeaway from the Plots**\n",
    "\n",
    "As we can see, our tree-based models are able to capture non-linear boundaries as evinced by the jagged edges and kinks in the decision boundaries to take into account the moon and circle shapes of the custom data-points. Furthermore, we can see that these tree-based models have been able to segregate the data points sufficiently based on a visual inspection of the Decision boundaries where there is clear demarcation between the red and the blue points. "
   ]
  },
  {
   "cell_type": "markdown",
   "metadata": {
    "_cell_guid": "b8d60bde-b8b8-9440-fe02-456014a9be28",
    "_uuid": "d32ddaec7639a5f4dfcab2d9778bd50a7ffee747"
   },
   "source": [
    "### Linear Decision Boundaries\n",
    "\n",
    "Let us now plot some decision boundaries of linear models namely a Linear Support Vector Machine, a logistic regression and a Naive Bayes model and we observe how their decision boundaries differ from the tree-based models."
   ]
  },
  {
   "cell_type": "code",
   "execution_count": null,
   "metadata": {
    "_cell_guid": "52e49441-4a36-3fe3-a452-0c92910994c1",
    "_uuid": "3f8f044e90155045b54cc079704e17b5cf7c2068",
    "collapsed": true
   },
   "outputs": [],
   "source": [
    "linearclassifiers = [\n",
    "    SVC(kernel=\"linear\", C=0.025),\n",
    "    LogisticRegression(),\n",
    "    GaussianNB()]"
   ]
  },
  {
   "cell_type": "code",
   "execution_count": null,
   "metadata": {
    "_cell_guid": "2830c215-53a7-e5d1-a462-b74f10d002b5",
    "_uuid": "055c5de759eb9444123a66186274645e1ffddd13",
    "collapsed": true
   },
   "outputs": [],
   "source": [
    "datasets = [make_moons(noise=0.3, random_state=0)\n",
    "            ,make_circles(noise=0.2, factor=0.5, random_state=1) \n",
    "            ,make_circles(noise=0.01, factor=0.5, random_state=1) \n",
    "           ]"
   ]
  },
  {
   "cell_type": "markdown",
   "metadata": {
    "_cell_guid": "7214a49d-15f6-28df-ebe0-a9dde8895ba6",
    "_uuid": "817e201b76d1e3f36f7584e3d80a90eefee6eee9"
   },
   "source": [
    "**Takeaway from the plots**\n",
    "\n",
    "Unlike the tree-based models where the decision boundaries managed to capture and reflect the fact that the dataset consisted of two classes, these linear models seem to struggle with these tasks. We can clearly see that the decision surfaces incorporate multiple shades of color which are not accurately containing either the red or blue class. In fact the decision surfaces seem to be grouping both red and blue data points together. "
   ]
  },
  {
   "cell_type": "markdown",
   "metadata": {
    "_cell_guid": "46c6b186-91f9-7782-f586-74e0df73861e",
    "_uuid": "99ddae7ce4a5dccc6f46834d2048b7f31117b0e8"
   },
   "source": [
    "# 2. Decision Boundaries of the Iris Dataset - Three Classes\n",
    "\n",
    "Having plotted the decision boundaries of a two-class dataset, we can now proceed onto reading in the main Iris dataset. For this, instead of using Matplotlib methods, I will aim to use the interactive visualisation library Plotly to generate the decision surfaces. "
   ]
  },
  {
   "cell_type": "code",
   "execution_count": null,
   "metadata": {
    "_cell_guid": "916ccc94-a7bf-9187-1cf7-f5925911560f",
    "_uuid": "153c43c98eaaaf4d75bdf3ff2e722aadab20838d",
    "collapsed": true
   },
   "outputs": [],
   "source": [
    "iris = pd.read_csv('../input/Iris.csv')\n",
    "iris.head(3)"
   ]
  },
  {
   "cell_type": "markdown",
   "metadata": {
    "_cell_guid": "56f633b4-77c8-78f0-2c10-fdc80c773b74",
    "_uuid": "b18c775741b61c3dfb5ef4382746205c085721cc"
   },
   "source": [
    "For the benefit of those not too familiar with the Iris dataset, there are three distinct Iris species which was alluded to in the introduction. The three are given as 1) Setosa 2) Versicolor and 3) Virginica.\n",
    "\n",
    "Since our Species column which contains these three class labels contain categorical data, the first thing to do would be to encode them numerically as follows:"
   ]
  },
  {
   "cell_type": "code",
   "execution_count": null,
   "metadata": {
    "_cell_guid": "b512848f-7972-9e65-7bf2-7333f1c70fee",
    "_uuid": "2b45a57a2ede5923e28c5326bdc352675e286a6b",
    "collapsed": true
   },
   "outputs": [],
   "source": [
    "target_map = {'Iris-setosa':0, 'Iris-versicolor':1,'Iris-virginica':2 }\n",
    "# Use the pandas apply method to numerically encode our attrition target variable\n",
    "iris['Species'] = iris['Species'].apply(lambda x: target_map[x])"
   ]
  },
  {
   "cell_type": "markdown",
   "metadata": {
    "_cell_guid": "7380dcd7-56ff-d7c7-366d-a26322d32075",
    "_uuid": "7ba70cd7593aaecccc09a5fd95b8ee6d4ba10c7e"
   },
   "source": [
    "## Interactive Plotly visualisations\n",
    "\n",
    "### 2.1 Overfitting effects on the Decision Boundary\n",
    "\n",
    "In the following section, we will use the interactive capabilities of Plotly to visualise the effects of overfitting ones model and how the decision boundary changes due to this. We will plot two Random Forest classifiers, the first being one with reasonable parameters (max_depth = 4) while the second is clearly overfitting (max_depth = 50). \n",
    "\n",
    "Invoking the Plotly code is very similar to that of Matplotlib when generating the decision surface. We will need a Numpy meshgrid to form the basis of our surface plots as well as the **.predict** method from the learning model which to populate our surface with data."
   ]
  },
  {
   "cell_type": "code",
   "execution_count": null,
   "metadata": {
    "_cell_guid": "b82c4aff-b8c9-e77e-4aed-e21c64b855cd",
    "_uuid": "c9466f9aa13392a618be1d2a6daa94fd240d84a1",
    "collapsed": true
   },
   "outputs": [],
   "source": [
    "del X, y # remove the earlier X and y\n",
    "X = iris.iloc[:, :2]  # Take only the first two features.\n",
    "               \n",
    "y = iris.Species\n",
    "h = .02  # step size in the mesh\n",
    "\n",
    "X = StandardScaler().fit_transform(X)\n",
    "\n",
    "\n",
    "# Train two Random Forests. One with normal reasonable parameters and the other with overfitting\n",
    "trees = RandomForestClassifier(max_depth=4, n_estimators=20, random_state=0)\n",
    "trees.fit(X, y)\n",
    "\n",
    "trees_overfit = RandomForestClassifier(max_depth=50, n_estimators=5, random_state=0)\n",
    "trees_overfit.fit(X, y)\n",
    "\n",
    "x_min, x_max = X[:, 0].min() - 1, X[:, 0].max() + 1\n",
    "y_min, y_max = X[:, 1].min() - 1, X[:, 1].max() + 1\n",
    "\n",
    "xx, yy = np.meshgrid(np.arange(x_min, x_max, h)\n",
    "                     , np.arange(y_min, y_max, h))\n",
    "y_ = np.arange(y_min, y_max, h)\n",
    "\n",
    "Z = trees.predict(np.c_[xx.ravel(), yy.ravel()])\n",
    "Z = Z.reshape(xx.shape)\n",
    "#Z = Z.reshape((xx.shape[0], xx.shape[1], 3))\n",
    "\n",
    "fig = tools.make_subplots(rows=1, cols=2,\n",
    "                          subplot_titles=(\"Random Forest (Depth = 4)\",\n",
    "                                          \"Random Forest (Depth = 50)\")\n",
    "                         )\n",
    "\n",
    "trace1 = go.Heatmap(x=xx[0], y=y_, z=Z,\n",
    "                  colorscale='Viridis',\n",
    "                  showscale=False)\n",
    "\n",
    "trace2 = go.Scatter(x=X[:, 0], y=X[:, 1], \n",
    "                    mode='markers',\n",
    "                    showlegend=False,\n",
    "                    marker=dict(size=10,\n",
    "                                color=y, \n",
    "                                colorscale='Viridis',\n",
    "                                line=dict(color='black', width=1))\n",
    "                    )\n",
    "                  \n",
    "fig.append_trace(trace1, 1, 1)\n",
    "fig.append_trace(trace2, 1, 1)\n",
    "\n",
    "# transform grid using ExtraTreesClassifier\n",
    "# y_grid_pred = trees.predict_proba(np.c_[xx.ravel(), yy.ravel()])[:, 1]\n",
    "\n",
    "Z = trees_overfit.predict(np.c_[xx.ravel(), yy.ravel()])\n",
    "Z = Z.reshape(xx.shape)\n",
    "\n",
    "\n",
    "trace3 = go.Heatmap(x=xx[0], y=y_, \n",
    "                    z=Z,\n",
    "                    colorscale='Viridis',\n",
    "                    showscale=True)\n",
    "\n",
    "trace4 = go.Scatter(x=X[:, 0], y=X[:, 1],\n",
    "                    mode='markers',\n",
    "                    showlegend=False,\n",
    "                    marker=dict(size=10,\n",
    "                                color=y, \n",
    "                                colorscale='Viridis',\n",
    "                                line=dict(color='black', width=1))\n",
    "                   )\n",
    "fig.append_trace(trace3, 1, 2)\n",
    "fig.append_trace(trace4, 1, 2)\n",
    "\n",
    "for i in map(str, range(1, 3)):\n",
    "    x = 'xaxis' + i\n",
    "    y = 'yaxis' + i\n",
    "    fig['layout'][x].update(showgrid=False, zeroline=False,\n",
    "                                   showticklabels=False, ticks='', autorange=True)\n",
    "    fig['layout'][y].update(showgrid=False, zeroline=False,\n",
    "                                   showticklabels=False, ticks='', autorange=True)\n",
    "\n",
    "py.iplot(fig)"
   ]
  },
  {
   "cell_type": "markdown",
   "metadata": {
    "_cell_guid": "72d98b6d-904c-c51d-baca-95db0a9a7f85",
    "_uuid": "1af3bd39aa2e02521d76a9652140a650930dafb5"
   },
   "source": [
    "*PLEASE CLICK AND DRAG THE ABOVE. THESE PLOTS ARE INTERACTIVE. DOUBLE-CLICK IF YOU WANT TO GET BACK TO THE ORIGINAL VIEW.*"
   ]
  },
  {
   "cell_type": "markdown",
   "metadata": {
    "_cell_guid": "d2c69d68-c6c0-e824-47f6-f577a1091d40",
    "_uuid": "c6a81eefc7d3bb0eb5fede32ae8381ce91cfc6db"
   },
   "source": [
    "**Takeaway from the Plots**\n",
    "\n",
    "The decision boundaries are very telling in portraying the effects of over-fitting the model. For example in the chart on the left where we have implemented a Random Forest with a reasonable tree depth of 4,  the three distinct Iris classes are suitably sub-divided by the decision boundaries. On the other hand the chart on the right shows a Random Forest but trained very deeply with a tree depth of 50. We see that the decision boundary is now more complicated and is trying to accommodate and fit for every possible data point. "
   ]
  },
  {
   "cell_type": "markdown",
   "metadata": {
    "_cell_guid": "845b8570-2e27-a4e3-efc5-f8a2e3082b04",
    "_uuid": "f62b5f69de969af21f803121e6d9f74c0ccbc265"
   },
   "source": [
    "### 2.2 Regularization effects on the Decision Boundary\n",
    "\n",
    "The next area that we will investigate with our decision boundary plots will be on the effects of a regularization parameter and how they affect the class boundaries. We will implement a handful of Logistic Regression models that have exactly the same parameters except where we vary the regularization parameter **C**."
   ]
  },
  {
   "cell_type": "code",
   "execution_count": null,
   "metadata": {
    "_cell_guid": "27df8b4b-2dbf-a1b1-d7d6-83a1d835ceb2",
    "_uuid": "1a7cdfc459af624258f4a52e98f340e6c0a30b7a",
    "collapsed": true
   },
   "outputs": [],
   "source": [
    "del X, y # remove the earlier X and y\n",
    "X = iris.iloc[:, :2]  # Take only the first two features.        \n",
    "y = iris.Species\n",
    "h = .02  # step size in the mesh\n",
    "X = StandardScaler().fit_transform(X)\n",
    "\n",
    "# Implement 3 Logistic Regression models with varying values of C\n",
    "clf = LogisticRegression(C=0.01)\n",
    "clf.fit(X, y)\n",
    "\n",
    "clf2 = LogisticRegression(C=1)\n",
    "clf2.fit(X, y)\n",
    "\n",
    "clf3 = LogisticRegression(C=100)\n",
    "clf3.fit(X, y)\n",
    "\n",
    "# Define our usual decision surface bounding plots\n",
    "x_min, x_max = X[:, 0].min() - 1, X[:, 0].max() + 1\n",
    "y_min, y_max = X[:, 1].min() - 1, X[:, 1].max() + 1\n",
    "\n",
    "xx, yy = np.meshgrid(np.arange(x_min, x_max, h)\n",
    "                     , np.arange(y_min, y_max, h))\n",
    "y_ = np.arange(y_min, y_max, h)"
   ]
  },
  {
   "cell_type": "markdown",
   "metadata": {
    "_cell_guid": "8cc99aa4-4e0a-6277-ea25-499182de6005",
    "_uuid": "1d7cef943f378eafb30dc640032897019ceb9373"
   },
   "source": [
    "Following on from this we plot our Plotly charts in the same vein as follows:"
   ]
  },
  {
   "cell_type": "code",
   "execution_count": null,
   "metadata": {
    "_cell_guid": "d96b1125-bc49-1e28-ac43-1fa6611fbd6a",
    "_uuid": "e21ffcb0f4d9cede2d2b402175b3892600ef9aa4",
    "collapsed": true
   },
   "outputs": [],
   "source": [
    "Z = clf.predict(np.c_[xx.ravel(), yy.ravel()])\n",
    "Z = Z.reshape(xx.shape)\n",
    "\n",
    "trace1 = go.Heatmap(x=xx[0], y=y_, z=Z,\n",
    "                  colorscale='Viridis',\n",
    "                  showscale=True)\n",
    "\n",
    "trace2 = go.Scatter(x=X[:, 0], y=X[:, 1], \n",
    "                    mode='markers',\n",
    "                    showlegend=False,\n",
    "                    marker=dict(size=10,\n",
    "                                color=y, \n",
    "                                colorscale='Viridis',\n",
    "                                line=dict(color='black', width=1))\n",
    "                    )\n",
    "layout= go.Layout(\n",
    "    autosize= True,\n",
    "    title= 'Logistic Regression (C=0.01)',\n",
    "    hovermode= 'closest',\n",
    "    showlegend= False)\n",
    "    \n",
    "data = [trace1, trace2]\n",
    "fig = go.Figure(data=data, layout=layout)       \n",
    "py.iplot(fig)\n",
    "\n",
    "\n",
    "Z = clf2.predict(np.c_[xx.ravel(), yy.ravel()])\n",
    "Z = Z.reshape(xx.shape)\n",
    "#Z = Z.reshape((xx.shape[0], xx.shape[1], 3))\n",
    "\n",
    "\n",
    "trace3 = go.Heatmap(x=xx[0], y=y_, \n",
    "                    z=Z,\n",
    "                    colorscale='Viridis',\n",
    "                    showscale=True)\n",
    "\n",
    "trace4 = go.Scatter(x=X[:, 0], y=X[:, 1],\n",
    "                    mode='markers',\n",
    "                    showlegend=False,\n",
    "                    marker=dict(size=10,\n",
    "                                color=y, \n",
    "                                colorscale='Viridis',\n",
    "                                line=dict(color='black', width=1))\n",
    "                   )\n",
    "\n",
    "layout= go.Layout(\n",
    "    autosize= True,\n",
    "    title= 'Logistic Regression (C=1)',\n",
    "    hovermode= 'closest',\n",
    "    showlegend= False)\n",
    "\n",
    "data = [trace3, trace4]\n",
    "fig2 = go.Figure(data=data,layout= layout)   \n",
    "\n",
    "for i in map(str, range(1, 3)):\n",
    "    x = 'xaxis' + i\n",
    "    y = 'yaxis' + i\n",
    "    fig['layout'][x].update(showgrid=False, zeroline=False,\n",
    "                                   showticklabels=False, ticks='', autorange=True)\n",
    "    fig['layout'][y].update(showgrid=False, zeroline=False,\n",
    "                                   showticklabels=False, ticks='', autorange=True)\n",
    "\n",
    "py.iplot(fig2)\n",
    "\n",
    "del X, y # remove the earlier X and y\n",
    "X = iris.iloc[:, :2]  # Take only the first two features.        \n",
    "y = iris.Species\n",
    "h = .02  # step size in the mesh\n",
    "X = StandardScaler().fit_transform(X)\n",
    "\n",
    "Z = clf3.predict(np.c_[xx.ravel(), yy.ravel()])\n",
    "Z = Z.reshape(xx.shape)\n",
    "\n",
    "\n",
    "trace5 = go.Heatmap(x=xx[0], y=y_, \n",
    "                    z=Z,\n",
    "                    colorscale='Viridis',\n",
    "                    showscale=True)\n",
    "\n",
    "trace6 = go.Scatter(x=X[:, 0], y=X[:, 1],\n",
    "                    mode='markers',\n",
    "                    showlegend=False,\n",
    "                    marker=dict(size=10,\n",
    "                                color=y, \n",
    "                                colorscale='Viridis',\n",
    "                                line=dict(color='black', width=1))\n",
    "                   )\n",
    "\n",
    "layout= go.Layout(\n",
    "    autosize= True,\n",
    "    title= 'Logistic Regression (C=100)',\n",
    "    hovermode= 'closest',\n",
    "    showlegend= False)\n",
    "\n",
    "data = [trace5, trace6]\n",
    "fig3 = go.Figure(data=data,layout= layout)   \n",
    "\n",
    "py.iplot(fig3)"
   ]
  },
  {
   "cell_type": "markdown",
   "metadata": {
    "_cell_guid": "c1be23fc-5838-33aa-4aae-4457bd6df71c",
    "_uuid": "a90b2f9b73f5c6796b43612fbb89bf89d5403c93"
   },
   "source": [
    "*PLEASE CLICK AND DRAG THE ABOVE. THESE PLOTS ARE INTERACTIVE. DOUBLE-CLICK IF YOU WANT TO GET BACK TO THE ORIGINAL VIEW.*"
   ]
  },
  {
   "cell_type": "markdown",
   "metadata": {
    "_cell_guid": "9cc3a9db-3bb1-4bcf-b298-4b52c7b714f3",
    "_uuid": "5b2df8843ddeb772db8dbf7bbdf3848a7063f425"
   },
   "source": [
    "**Takeaway from the Plots**\n",
    "\n",
    "The decision boundaries do vary quite drastically for different values of the regularization parameter C. For a very small C ( the first plot), this refers to a regime in which the Logistic Regression model is highly regularized. The second plot is that of a regime where a reasonable value for C has been used and this is reflected in the decison boundaries where the data points seem to quite accurately divided up by the boundaries."
   ]
  },
  {
   "cell_type": "markdown",
   "metadata": {
    "_cell_guid": "5d6844fc-88f2-8428-39e0-65286284a865",
    "_uuid": "9fe021ab1dc7a81628f30dd502ae03ba44e7dda3"
   },
   "source": [
    "### 2.3 Probabilities via Decision surfaces\n",
    "\n",
    "So far sub-sections 2.1 and 2.2 have been been about visualising the actual data point separations between the three iris classes (or what the model thinks they are ). However, what if we want to visualise the probability of a data point being in either of the three classes?\n",
    "\n",
    "Handily enough for us, we can plot the class probabilities via Sklearn. Instead of invoking **.predict** in our plots, we use the **.predict_proba** attribute instead. The thing to note when calling the latter instead of the former is that the resulting output is now a matrix of three columns (instead of a vector). These three columns correspond to the three classes in the iris dataset. Therefore when plotting the decision surface for the class probabilities, the standard way of plotting is as follows:"
   ]
  },
  {
   "cell_type": "code",
   "execution_count": null,
   "metadata": {
    "_cell_guid": "821d54ef-3c54-1879-86cd-21a233e6e15b",
    "_uuid": "3672c9906fdf638447505f4d6728a5739d176a98",
    "collapsed": true
   },
   "outputs": [],
   "source": [
    "del X, y # remove the earlier X and y\n",
    "X = iris.iloc[:, :2]  # Take only the first two features.        \n",
    "y = iris.Species\n",
    "h = .02  # step size in the mesh\n",
    "X = StandardScaler().fit_transform(X)\n",
    "\n",
    "\n",
    "# Train two Random Forests. One with normal reasonable parameters and the other with overfitting\n",
    "clf = SVC(gamma=2, C=1, probability=True)\n",
    "clf.fit(X, y)\n",
    "\n",
    "x_min, x_max = X[:, 0].min() - 1, X[:, 0].max() + 1\n",
    "y_min, y_max = X[:, 1].min() - 1, X[:, 1].max() + 1\n",
    "\n",
    "xx, yy = np.meshgrid(np.arange(x_min, x_max, h)\n",
    "                     , np.arange(y_min, y_max, h))\n",
    "y_ = np.arange(y_min, y_max, h)\n",
    "\n",
    "Z = clf.predict_proba(np.c_[xx.ravel(), yy.ravel()])[:,:1]\n",
    "Z = Z.reshape(xx.shape)\n",
    "#Z = Z.reshape((xx.shape[0], xx.shape[1], 3))\n",
    "\n",
    "fig = tools.make_subplots(rows=1, cols=2,\n",
    "                          subplot_titles=(\"Class 1 surface probability\",\n",
    "                                          \"Class 2 surface probability\")\n",
    "                         )\n",
    "\n",
    "trace1 = go.Heatmap(x=xx[0], y=y_, z=Z,\n",
    "                  colorscale='Jet',\n",
    "                  showscale=False)\n",
    "\n",
    "trace2 = go.Scatter(x=X[:, 0], y=X[:, 1], \n",
    "                    mode='markers',\n",
    "                    showlegend=False,\n",
    "                    marker=dict(size=10,\n",
    "                                color=y, \n",
    "                                colorscale='Jet',\n",
    "                                line=dict(color='black', width=1))\n",
    "                    )\n",
    "                  \n",
    "fig.append_trace(trace1, 1, 1)\n",
    "fig.append_trace(trace2, 1, 1)\n",
    "\n",
    "# transform grid using ExtraTreesClassifier\n",
    "# y_grid_pred = trees.predict_proba(np.c_[xx.ravel(), yy.ravel()])[:, 1]\n",
    "\n",
    "Z = clf.predict_proba(np.c_[xx.ravel(), yy.ravel()])[:,1:2]\n",
    "Z = Z.reshape(xx.shape)\n",
    "\n",
    "\n",
    "trace3 = go.Heatmap(x=xx[0], y=y_, \n",
    "                    z=Z,\n",
    "                    colorscale='Jet',\n",
    "                    showscale=True)\n",
    "\n",
    "trace4 = go.Scatter(x=X[:, 0], y=X[:, 1],\n",
    "                    mode='markers',\n",
    "                    showlegend=False,\n",
    "                    marker=dict(size=10,\n",
    "                                color=y, \n",
    "                                colorscale='Jet',\n",
    "                                line=dict(color='black', width=1))\n",
    "                   )\n",
    "fig.append_trace(trace3, 1, 2)\n",
    "fig.append_trace(trace4, 1, 2)\n",
    "\n",
    "for i in map(str, range(1, 3)):\n",
    "    x = 'xaxis' + i\n",
    "    y = 'yaxis' + i\n",
    "    fig['layout'][x].update(showgrid=False, zeroline=False,\n",
    "                                   showticklabels=False, ticks='', autorange=True)\n",
    "    fig['layout'][y].update(showgrid=False, zeroline=False,\n",
    "                                   showticklabels=False, ticks='', autorange=True)\n",
    "\n",
    "py.iplot(fig)\n",
    "\n",
    "\n",
    "del X, y # remove the earlier X and y\n",
    "X = iris.iloc[:, :2]  # Take only the first two features.        \n",
    "y = iris.Species\n",
    "h = .02  # step size in the mesh\n",
    "X = StandardScaler().fit_transform(X)\n",
    "\n",
    "\n",
    "Z = clf.predict_proba(np.c_[xx.ravel(), yy.ravel()])[:,2:3]\n",
    "Z = Z.reshape(xx.shape)\n",
    "\n",
    "\n",
    "trace5 = go.Heatmap(x=xx[0], y=y_, \n",
    "                    z=Z,\n",
    "                    colorscale='Jet',\n",
    "                    showscale=True)\n",
    "\n",
    "trace4 = go.Scatter(x=X[:, 0], y=X[:, 1],\n",
    "                    mode='markers',\n",
    "                    showlegend=False,\n",
    "                    marker=dict(size=10,\n",
    "                                color=y, \n",
    "                                colorscale='Jet',\n",
    "                                reversescale = 'True',\n",
    "                                line=dict(color='black', width=1))\n",
    "                   )\n",
    "\n",
    "layout= go.Layout(\n",
    "    autosize= True,\n",
    "    title= 'Class 3 Surface Probability',\n",
    "    hovermode= 'closest',\n",
    "    showlegend= False)\n",
    "\n",
    "data = [trace5, trace4]\n",
    "fig3 = go.Figure(data=data,layout= layout)   \n",
    "\n",
    "\n",
    "py.iplot(fig3)"
   ]
  },
  {
   "cell_type": "markdown",
   "metadata": {
    "_cell_guid": "07b5bd98-22e2-5d5b-cc71-2b60b6697c94",
    "_uuid": "c6f8339494cf39a8620064aea1d0cbfa90d9d785"
   },
   "source": [
    "*PLEASE CLICK AND DRAG THE ABOVE. THESE PLOTS ARE INTERACTIVE. DOUBLE-CLICK IF YOU WANT TO GET BACK TO THE ORIGINAL VIEW.*"
   ]
  },
  {
   "cell_type": "code",
   "execution_count": null,
   "metadata": {
    "_cell_guid": "f3b35511-6be5-c1e9-0863-ce3913a22252",
    "_uuid": "1803723f36de4feab1a4f87c87fde918fff68845",
    "collapsed": true
   },
   "outputs": [],
   "source": []
  }
 ],
 "metadata": {
  "_change_revision": 0,
  "_is_fork": false,
  "kernelspec": {
   "display_name": "Python 3",
   "language": "python",
   "name": "python3"
  },
  "language_info": {
   "codemirror_mode": {
    "name": "ipython",
    "version": 3
   },
   "file_extension": ".py",
   "mimetype": "text/x-python",
   "name": "python",
   "nbconvert_exporter": "python",
   "pygments_lexer": "ipython3",
   "version": "3.6.2"
  }
 },
 "nbformat": 4,
 "nbformat_minor": 1
}
